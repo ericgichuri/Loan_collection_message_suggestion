{
 "cells": [
  {
   "cell_type": "markdown",
   "metadata": {},
   "source": [
    "# project: develop ML model to suggest messages to send to loan defaulters"
   ]
  },
  {
   "cell_type": "markdown",
   "metadata": {},
   "source": [
    "### imports"
   ]
  },
  {
   "cell_type": "code",
   "execution_count": 56,
   "metadata": {},
   "outputs": [],
   "source": [
    "import numpy as np\n",
    "import pandas as pd\n",
    "from sklearn.model_selection import train_test_split\n",
    "from sklearn.preprocessing import StandardScaler\n",
    "from sklearn.linear_model import LogisticRegression\n",
    "from sklearn.metrics import accuracy_score,classification_report\n",
    "from sklearn import preprocessing\n",
    "import pickle\n",
    "import matplotlib.pyplot as plt\n",
    "%matplotlib inline"
   ]
  },
  {
   "cell_type": "markdown",
   "metadata": {},
   "source": [
    "### load dataset"
   ]
  },
  {
   "cell_type": "code",
   "execution_count": 57,
   "metadata": {},
   "outputs": [
    {
     "data": {
      "text/html": [
       "<div>\n",
       "<style scoped>\n",
       "    .dataframe tbody tr th:only-of-type {\n",
       "        vertical-align: middle;\n",
       "    }\n",
       "\n",
       "    .dataframe tbody tr th {\n",
       "        vertical-align: top;\n",
       "    }\n",
       "\n",
       "    .dataframe thead th {\n",
       "        text-align: right;\n",
       "    }\n",
       "</style>\n",
       "<table border=\"1\" class=\"dataframe\">\n",
       "  <thead>\n",
       "    <tr style=\"text-align: right;\">\n",
       "      <th></th>\n",
       "      <th>overdue_days</th>\n",
       "      <th>paid_percentage</th>\n",
       "      <th>no_of_times_borrowed</th>\n",
       "    </tr>\n",
       "  </thead>\n",
       "  <tbody>\n",
       "    <tr>\n",
       "      <th>0</th>\n",
       "      <td>295</td>\n",
       "      <td>69.93007</td>\n",
       "      <td>1.0</td>\n",
       "    </tr>\n",
       "    <tr>\n",
       "      <th>1</th>\n",
       "      <td>410</td>\n",
       "      <td>69.93007</td>\n",
       "      <td>1.0</td>\n",
       "    </tr>\n",
       "    <tr>\n",
       "      <th>...</th>\n",
       "      <td>...</td>\n",
       "      <td>...</td>\n",
       "      <td>...</td>\n",
       "    </tr>\n",
       "    <tr>\n",
       "      <th>974</th>\n",
       "      <td>29</td>\n",
       "      <td>0.00000</td>\n",
       "      <td>19.0</td>\n",
       "    </tr>\n",
       "    <tr>\n",
       "      <th>975</th>\n",
       "      <td>30</td>\n",
       "      <td>0.00000</td>\n",
       "      <td>29.0</td>\n",
       "    </tr>\n",
       "  </tbody>\n",
       "</table>\n",
       "<p>976 rows × 3 columns</p>\n",
       "</div>"
      ],
      "text/plain": [
       "     overdue_days  paid_percentage  no_of_times_borrowed\n",
       "0             295         69.93007                   1.0\n",
       "1             410         69.93007                   1.0\n",
       "..            ...              ...                   ...\n",
       "974            29          0.00000                  19.0\n",
       "975            30          0.00000                  29.0\n",
       "\n",
       "[976 rows x 3 columns]"
      ]
     },
     "execution_count": 57,
     "metadata": {},
     "output_type": "execute_result"
    }
   ],
   "source": [
    "file_path=\"data/data1.csv\"\n",
    "df=pd.read_csv(file_path)\n",
    "df"
   ]
  },
  {
   "cell_type": "markdown",
   "metadata": {},
   "source": [
    "### check for null values"
   ]
  },
  {
   "cell_type": "code",
   "execution_count": 58,
   "metadata": {},
   "outputs": [],
   "source": [
    "df=df.fillna(value=1)"
   ]
  },
  {
   "cell_type": "markdown",
   "metadata": {},
   "source": [
    "### Define loan status"
   ]
  },
  {
   "cell_type": "code",
   "execution_count": 59,
   "metadata": {},
   "outputs": [
    {
     "data": {
      "text/html": [
       "<div>\n",
       "<style scoped>\n",
       "    .dataframe tbody tr th:only-of-type {\n",
       "        vertical-align: middle;\n",
       "    }\n",
       "\n",
       "    .dataframe tbody tr th {\n",
       "        vertical-align: top;\n",
       "    }\n",
       "\n",
       "    .dataframe thead th {\n",
       "        text-align: right;\n",
       "    }\n",
       "</style>\n",
       "<table border=\"1\" class=\"dataframe\">\n",
       "  <thead>\n",
       "    <tr style=\"text-align: right;\">\n",
       "      <th></th>\n",
       "      <th>overdue_days</th>\n",
       "      <th>paid_percentage</th>\n",
       "      <th>no_of_times_borrowed</th>\n",
       "      <th>loan_status</th>\n",
       "    </tr>\n",
       "  </thead>\n",
       "  <tbody>\n",
       "    <tr>\n",
       "      <th>0</th>\n",
       "      <td>295</td>\n",
       "      <td>69.93007</td>\n",
       "      <td>1.0</td>\n",
       "      <td>Partial</td>\n",
       "    </tr>\n",
       "    <tr>\n",
       "      <th>1</th>\n",
       "      <td>410</td>\n",
       "      <td>69.93007</td>\n",
       "      <td>1.0</td>\n",
       "      <td>Partial</td>\n",
       "    </tr>\n",
       "    <tr>\n",
       "      <th>...</th>\n",
       "      <td>...</td>\n",
       "      <td>...</td>\n",
       "      <td>...</td>\n",
       "      <td>...</td>\n",
       "    </tr>\n",
       "    <tr>\n",
       "      <th>974</th>\n",
       "      <td>29</td>\n",
       "      <td>0.00000</td>\n",
       "      <td>19.0</td>\n",
       "      <td>Not_Paid</td>\n",
       "    </tr>\n",
       "    <tr>\n",
       "      <th>975</th>\n",
       "      <td>30</td>\n",
       "      <td>0.00000</td>\n",
       "      <td>29.0</td>\n",
       "      <td>Not_Paid</td>\n",
       "    </tr>\n",
       "  </tbody>\n",
       "</table>\n",
       "<p>976 rows × 4 columns</p>\n",
       "</div>"
      ],
      "text/plain": [
       "     overdue_days  paid_percentage  no_of_times_borrowed loan_status\n",
       "0             295         69.93007                   1.0     Partial\n",
       "1             410         69.93007                   1.0     Partial\n",
       "..            ...              ...                   ...         ...\n",
       "974            29          0.00000                  19.0    Not_Paid\n",
       "975            30          0.00000                  29.0    Not_Paid\n",
       "\n",
       "[976 rows x 4 columns]"
      ]
     },
     "execution_count": 59,
     "metadata": {},
     "output_type": "execute_result"
    }
   ],
   "source": [
    "df['loan_status']=\"Not_Paid\"\n",
    "# Define conditions for paid payment\n",
    "paid_condition = (df['paid_percentage'] > 100)\n",
    "df.loc[paid_condition, 'loan_status'] = 'Paid'\n",
    "# Define conditions for partial payment\n",
    "partial_condition = (df['paid_percentage']<100)\n",
    "df.loc[partial_condition, 'loan_status'] = 'Partial'\n",
    "# Define conditions for not paid payment\n",
    "notpaid_condition = (df['overdue_days'] > 1) & (df['paid_percentage']==0)\n",
    "df.loc[notpaid_condition, 'loan_status'] = 'Not_Paid'\n",
    "# Define conditions for slight default\n",
    "slight_condition = (df['overdue_days'] > 60) & (df['no_of_times_borrowed']>=1) & (df['paid_percentage']==0)\n",
    "df.loc[slight_condition, 'loan_status'] = 'Slight_Default'\n",
    "# Define conditions for normal default\n",
    "default_condition = (df['overdue_days'] > 120) & (df['no_of_times_borrowed']>=1) & (df['paid_percentage']==0)\n",
    "df.loc[default_condition, 'loan_status'] = 'Defualt'\n",
    "# Define conditions for extreme default\n",
    "extreme_condition = (df['overdue_days'] > 300) & (df['no_of_times_borrowed']==1) & (df['paid_percentage']==0)\n",
    "df.loc[extreme_condition, 'loan_status'] = 'Extreme_Defualt'\n",
    "pd.set_option('display.max_rows', 5)\n",
    "df"
   ]
  },
  {
   "cell_type": "markdown",
   "metadata": {},
   "source": [
    "### dataset features and target"
   ]
  },
  {
   "cell_type": "code",
   "execution_count": 60,
   "metadata": {},
   "outputs": [
    {
     "name": "stdout",
     "output_type": "stream",
     "text": [
      "     overdue_days  paid_percentage  no_of_times_borrowed\n",
      "0             295         69.93007                   1.0\n",
      "1             410         69.93007                   1.0\n",
      "..            ...              ...                   ...\n",
      "974            29          0.00000                  19.0\n",
      "975            30          0.00000                  29.0\n",
      "\n",
      "[976 rows x 3 columns]\n",
      "0       Partial\n",
      "1       Partial\n",
      "         ...   \n",
      "974    Not_Paid\n",
      "975    Not_Paid\n",
      "Name: loan_status, Length: 976, dtype: object\n"
     ]
    }
   ],
   "source": [
    "# fetures\n",
    "features=['overdue_days','paid_percentage','no_of_times_borrowed']\n",
    "# target\n",
    "target='loan_status'\n",
    "X=df[features]\n",
    "y=df[target]\n",
    "print(X)\n",
    "print(y)"
   ]
  },
  {
   "cell_type": "markdown",
   "metadata": {},
   "source": [
    "### show some relationship Overdue days and payment\n"
   ]
  },
  {
   "cell_type": "code",
   "execution_count": 61,
   "metadata": {},
   "outputs": [
    {
     "name": "stderr",
     "output_type": "stream",
     "text": [
      "No artists with labels found to put in legend.  Note that artists whose label start with an underscore are ignored when legend() is called with no argument.\n"
     ]
    },
    {
     "data": {
      "image/png": "[encoded data removed]",
      "text/plain": [
       "<Figure size 1200x400 with 1 Axes>"
      ]
     },
     "metadata": {},
     "output_type": "display_data"
    }
   ],
   "source": [
    "my_x=df['overdue_days']\n",
    "my_y=df['paid_percentage']\n",
    "plt.figure(figsize=(12,4))\n",
    "plt.title(\"Relation btn payment and Overdue days\")\n",
    "plt.scatter(my_x,my_y,s=8)\n",
    "plt.xlabel('x (Overdue Days)')\n",
    "plt.ylabel('y (Paid Percentage)')\n",
    "plt.legend()\n",
    "plt.show()"
   ]
  },
  {
   "cell_type": "markdown",
   "metadata": {},
   "source": [
    "### show some relationship btn number of times borrowed and payment"
   ]
  },
  {
   "cell_type": "code",
   "execution_count": 62,
   "metadata": {},
   "outputs": [
    {
     "name": "stderr",
     "output_type": "stream",
     "text": [
      "No artists with labels found to put in legend.  Note that artists whose label start with an underscore are ignored when legend() is called with no argument.\n"
     ]
    },
    {
     "data": {
      "image/png": "[encoded data removed]",
      "text/plain": [
       "<Figure size 1200x400 with 1 Axes>"
      ]
     },
     "metadata": {},
     "output_type": "display_data"
    }
   ],
   "source": [
    "my_x=df['no_of_times_borrowed']\n",
    "my_y=df['paid_percentage']\n",
    "plt.figure(figsize=(12,4))\n",
    "plt.title(\"Relation btn payment and Count of borrowed\")\n",
    "plt.scatter(my_x,my_y,s=8)\n",
    "plt.xlabel('x (Times borrowed)')\n",
    "plt.ylabel('y (Paid Percentage)')\n",
    "plt.legend()\n",
    "plt.show()"
   ]
  },
  {
   "cell_type": "markdown",
   "metadata": {},
   "source": [
    "### normalize"
   ]
  },
  {
   "cell_type": "code",
   "execution_count": 63,
   "metadata": {},
   "outputs": [
    {
     "data": {
      "text/plain": [
       "array([[0.80616496, 0.19110228, 0.00273276],\n",
       "       [0.8525148 , 0.1454059 , 0.0020793 ],\n",
       "       [0.91908111, 0.07969995, 0.00121894],\n",
       "       ...,\n",
       "       [0.76315789, 0.        , 0.23684211],\n",
       "       [0.60416667, 0.        , 0.39583333],\n",
       "       [0.50847458, 0.        , 0.49152542]])"
      ]
     },
     "execution_count": 63,
     "metadata": {},
     "output_type": "execute_result"
    }
   ],
   "source": [
    "data_normarlized=preprocessing.normalize(X,norm='l1')\n",
    "data_normarlized"
   ]
  },
  {
   "cell_type": "markdown",
   "metadata": {},
   "source": [
    "### split data"
   ]
  },
  {
   "cell_type": "code",
   "execution_count": 64,
   "metadata": {},
   "outputs": [
    {
     "name": "stdout",
     "output_type": "stream",
     "text": [
      "[[0.99754902 0.         0.00245098]\n",
      " [0.98909657 0.         0.01090343]\n",
      " [0.98032787 0.         0.01967213]\n",
      " ...\n",
      " [0.99080158 0.         0.00919842]\n",
      " [0.99754902 0.         0.00245098]\n",
      " [0.86239737 0.08210181 0.05550082]]\n",
      "228    Extreme_Defualt\n",
      "758            Defualt\n",
      "            ...       \n",
      "235    Extreme_Defualt\n",
      "37             Partial\n",
      "Name: loan_status, Length: 780, dtype: object\n"
     ]
    }
   ],
   "source": [
    "X_train,X_test,y_train,y_test=train_test_split(data_normarlized,y,test_size=0.2,random_state=1)\n",
    "print(X_train)\n",
    "print(y_train)"
   ]
  },
  {
   "cell_type": "markdown",
   "metadata": {},
   "source": [
    "### Build model"
   ]
  },
  {
   "cell_type": "code",
   "execution_count": 65,
   "metadata": {},
   "outputs": [
    {
     "name": "stdout",
     "output_type": "stream",
     "text": [
      "Accuracy:  0.4642857142857143\n",
      "                 precision    recall  f1-score   support\n",
      "\n",
      "        Defualt       0.45      1.00      0.62        85\n",
      "Extreme_Defualt       0.00      0.00      0.00        78\n",
      "       Not_Paid       1.00      0.67      0.80         3\n",
      "        Partial       0.80      0.19      0.31        21\n",
      " Slight_Default       0.00      0.00      0.00         9\n",
      "\n",
      "       accuracy                           0.46       196\n",
      "      macro avg       0.45      0.37      0.35       196\n",
      "   weighted avg       0.30      0.46      0.31       196\n",
      "\n"
     ]
    },
    {
     "name": "stderr",
     "output_type": "stream",
     "text": [
      "c:\\Users\\Eric\\AppData\\Local\\Programs\\Python\\Python311\\Lib\\site-packages\\sklearn\\metrics\\_classification.py:1344: UndefinedMetricWarning: Precision and F-score are ill-defined and being set to 0.0 in labels with no predicted samples. Use `zero_division` parameter to control this behavior.\n",
      "  _warn_prf(average, modifier, msg_start, len(result))\n",
      "c:\\Users\\Eric\\AppData\\Local\\Programs\\Python\\Python311\\Lib\\site-packages\\sklearn\\metrics\\_classification.py:1344: UndefinedMetricWarning: Precision and F-score are ill-defined and being set to 0.0 in labels with no predicted samples. Use `zero_division` parameter to control this behavior.\n",
      "  _warn_prf(average, modifier, msg_start, len(result))\n",
      "c:\\Users\\Eric\\AppData\\Local\\Programs\\Python\\Python311\\Lib\\site-packages\\sklearn\\metrics\\_classification.py:1344: UndefinedMetricWarning: Precision and F-score are ill-defined and being set to 0.0 in labels with no predicted samples. Use `zero_division` parameter to control this behavior.\n",
      "  _warn_prf(average, modifier, msg_start, len(result))\n"
     ]
    }
   ],
   "source": [
    "model=LogisticRegression()\n",
    "model.fit(X_train,y_train)\n",
    "\n",
    "# make prediction\n",
    "y_pred=model.predict(X_test)\n",
    "\n",
    "# evaluate model accuracy\n",
    "accuracy=accuracy_score(y_test,y_pred)\n",
    "print(\"Accuracy: \",accuracy)\n",
    "\n",
    "# Print classification report for more detailed evaluation\n",
    "print(classification_report(y_test, y_pred))"
   ]
  },
  {
   "cell_type": "markdown",
   "metadata": {},
   "source": [
    "### Testing the model"
   ]
  },
  {
   "cell_type": "code",
   "execution_count": 66,
   "metadata": {},
   "outputs": [
    {
     "name": "stdout",
     "output_type": "stream",
     "text": [
      "['Partial']\n"
     ]
    }
   ],
   "source": [
    "new_data={'overdue_days':[int(100)],\n",
    "          'paid_percentage':[float(78)],\n",
    "          'no_of_times_borrowed':[int(1)]}\n",
    "new_df=pd.DataFrame(new_data)\n",
    "new_df_norm=preprocessing.normalize(new_df,norm='l1')\n",
    "pred=model.predict(new_df_norm)\n",
    "print(pred)"
   ]
  },
  {
   "cell_type": "markdown",
   "metadata": {},
   "source": [
    "### save the model"
   ]
  },
  {
   "cell_type": "code",
   "execution_count": 67,
   "metadata": {},
   "outputs": [],
   "source": [
    "with open('model_pickle','wb') as f:\n",
    "    pickle.dump(model,f)"
   ]
  },
  {
   "cell_type": "markdown",
   "metadata": {},
   "source": [
    "### Load saved model"
   ]
  },
  {
   "cell_type": "code",
   "execution_count": 68,
   "metadata": {},
   "outputs": [],
   "source": [
    "with open('model_pickle','rb') as f:\n",
    "    mod=pickle.load(f)"
   ]
  },
  {
   "cell_type": "markdown",
   "metadata": {},
   "source": [
    "### Test saved model"
   ]
  },
  {
   "cell_type": "code",
   "execution_count": 69,
   "metadata": {},
   "outputs": [
    {
     "name": "stdout",
     "output_type": "stream",
     "text": [
      "['Partial']\n"
     ]
    }
   ],
   "source": [
    "new_data={'overdue_days':[int(100)],\n",
    "          'paid_percentage':[float(78)],\n",
    "          'no_of_times_borrowed':[int(1)]}\n",
    "new_df=pd.DataFrame(new_data)\n",
    "new_df_norm=preprocessing.normalize(new_df,norm='l1')\n",
    "pred=mod.predict(new_df_norm)\n",
    "print(pred)"
   ]
  }
 ],
 "metadata": {
  "kernelspec": {
   "display_name": "Python 3",
   "language": "python",
   "name": "python3"
  },
  "language_info": {
   "codemirror_mode": {
    "name": "ipython",
    "version": 3
   },
   "file_extension": ".py",
   "mimetype": "text/x-python",
   "name": "python",
   "nbconvert_exporter": "python",
   "pygments_lexer": "ipython3",
   "version": "3.11.2"
  }
 },
 "nbformat": 4,
 "nbformat_minor": 2
}
